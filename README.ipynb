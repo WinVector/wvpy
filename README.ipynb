{
 "cells": [
  {
   "cell_type": "markdown",
   "source": [
    "[wvpy](https://github.com/WinVector/wvpy) is a simple \n",
    "set of utilities for teaching data science and machine learning methods.\n",
    "They are not replacements for the obvious methods in sklearn.\n",
    "\n",
    "Illustration of cross-method plan."
   ],
   "metadata": {
    "collapsed": false,
    "pycharm": {
     "name": "#%% md\n"
    }
   }
  },
  {
   "cell_type": "code",
   "execution_count": 1,
   "metadata": {
    "collapsed": true,
    "pycharm": {
     "is_executing": false
    }
   },
   "outputs": [
    {
     "data": {
      "text/plain": "[{'train': [0, 2, 3, 5, 8], 'test': [1, 4, 6, 7, 9]},\n {'train': [1, 4, 6, 7, 9], 'test': [0, 2, 3, 5, 8]}]"
     },
     "metadata": {},
     "output_type": "execute_result",
     "execution_count": 1
    }
   ],
   "source": [
    "import wvpy.util\n",
    "\n",
    "wvpy.util.mk_cross_plan(10,2)"
   ]
  },
  {
   "cell_type": "code",
   "execution_count": null,
   "outputs": [],
   "source": [
    "\n"
   ],
   "metadata": {
    "collapsed": false,
    "pycharm": {
     "name": "#%%\n"
    }
   }
  }
 ],
 "metadata": {
  "kernelspec": {
   "display_name": "Python 3",
   "language": "python",
   "name": "python3"
  },
  "language_info": {
   "codemirror_mode": {
    "name": "ipython",
    "version": 2
   },
   "file_extension": ".py",
   "mimetype": "text/x-python",
   "name": "python",
   "nbconvert_exporter": "python",
   "pygments_lexer": "ipython2",
   "version": "2.7.6"
  },
  "pycharm": {
   "stem_cell": {
    "cell_type": "raw",
    "source": [],
    "metadata": {
     "collapsed": false
    }
   }
  }
 },
 "nbformat": 4,
 "nbformat_minor": 0
}