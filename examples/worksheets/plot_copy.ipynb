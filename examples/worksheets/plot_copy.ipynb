{
 "cells": [
  {
   "cell_type": "markdown",
   "id": "e9204e8b",
   "metadata": {},
   "source": [
    "Example of a Python Jupyter worksheet.\n"
   ]
  },
  {
   "cell_type": "code",
   "execution_count": null,
   "id": "e0829a31",
   "metadata": {},
   "outputs": [],
   "source": [
    "# import our packages\n",
    "import matplotlib.pyplot as plt\n",
    "import numpy as np\n",
    "import pandas as pd\n",
    "import seaborn as sns\n"
   ]
  },
  {
   "cell_type": "markdown",
   "id": "089f4266",
   "metadata": {},
   "source": [
    "Makes some example data.\n"
   ]
  },
  {
   "cell_type": "code",
   "execution_count": null,
   "id": "012219fc",
   "metadata": {},
   "outputs": [],
   "source": [
    "d = pd.DataFrame({\n",
    "    'x': np.linspace(0, 7, num=100)\n",
    "})\n",
    "d['y'] = np.sin(d['x'])\n",
    "\n",
    "d\n"
   ]
  },
  {
   "cell_type": "markdown",
   "id": "73060968",
   "metadata": {},
   "source": [
    "Plot our data.\n"
   ]
  },
  {
   "cell_type": "code",
   "execution_count": null,
   "id": "8040367f",
   "metadata": {},
   "outputs": [],
   "source": [
    "sns.lineplot(\n",
    "    data=d,\n",
    "    x='x',\n",
    "    y='y',\n",
    ")\n",
    "plt.title('example plot')\n",
    "plt.show()\n"
   ]
  },
  {
   "cell_type": "markdown",
   "id": "2c1ab672",
   "metadata": {},
   "source": [
    "And that is our example.\n"
   ]
  }
 ],
 "metadata": {},
 "nbformat": 4,
 "nbformat_minor": 5
}
