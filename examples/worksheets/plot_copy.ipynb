{
 "cells": [
  {
   "cell_type": "markdown",
   "id": "0d0b2347",
   "metadata": {},
   "source": [
    "Example of a Python Jupyter worksheet.\n"
   ]
  },
  {
   "cell_type": "code",
   "execution_count": null,
   "id": "36095e91",
   "metadata": {},
   "outputs": [],
   "source": [
    "# import our packages\n",
    "import matplotlib.pyplot as plt\n",
    "import numpy as np\n",
    "import pandas as pd\n",
    "import seaborn as sns\n"
   ]
  },
  {
   "cell_type": "markdown",
   "id": "d2f89da7",
   "metadata": {},
   "source": [
    "Makes some example data.\n"
   ]
  },
  {
   "cell_type": "code",
   "execution_count": null,
   "id": "c3e4e407",
   "metadata": {},
   "outputs": [],
   "source": [
    "d = pd.DataFrame({\n",
    "    'x': np.linspace(0, 7, num=100)\n",
    "})\n",
    "d['y'] = np.sin(d['x'])\n"
   ]
  },
  {
   "cell_type": "code",
   "execution_count": null,
   "id": "12661745",
   "metadata": {},
   "outputs": [],
   "source": [
    "# disply data\n",
    "\n",
    "d\n"
   ]
  },
  {
   "cell_type": "markdown",
   "id": "90aa39b6",
   "metadata": {},
   "source": [
    "Plot our data.\n"
   ]
  },
  {
   "cell_type": "code",
   "execution_count": null,
   "id": "3740f2c2",
   "metadata": {},
   "outputs": [],
   "source": [
    "sns.lineplot(\n",
    "    data=d,\n",
    "    x='x',\n",
    "    y='y',\n",
    ")\n",
    "plt.title('example plot')\n",
    "plt.show()\n"
   ]
  },
  {
   "cell_type": "markdown",
   "id": "48489daa",
   "metadata": {},
   "source": [
    "And that is our example.\n"
   ]
  }
 ],
 "metadata": {},
 "nbformat": 4,
 "nbformat_minor": 5
}
