{
 "cells": [
  {
   "cell_type": "markdown",
   "id": "580f8fef",
   "metadata": {},
   "source": [
    "Example of a Python Jupyter worksheet.\n"
   ]
  },
  {
   "cell_type": "code",
   "execution_count": null,
   "id": "c56f48ec",
   "metadata": {},
   "outputs": [],
   "source": [
    "# import our packages\n",
    "import matplotlib.pyplot as plt\n",
    "import numpy as np\n",
    "import pandas as pd\n",
    "import seaborn as sns\n",
    "from IPython.display import display, Markdown\n"
   ]
  },
  {
   "cell_type": "markdown",
   "id": "76c7906c",
   "metadata": {},
   "source": [
    "Makes some example data.\n"
   ]
  },
  {
   "cell_type": "code",
   "execution_count": null,
   "id": "12b4de2a",
   "metadata": {},
   "outputs": [],
   "source": [
    "d = pd.DataFrame({\n",
    "    'x': np.linspace(0, 7, num=100)\n",
    "})\n",
    "d['y'] = np.sin(d['x'])\n"
   ]
  },
  {
   "cell_type": "code",
   "execution_count": null,
   "id": "9bd7bb4a",
   "metadata": {},
   "outputs": [],
   "source": [
    "# display data\n",
    "\n",
    "d\n"
   ]
  },
  {
   "cell_type": "markdown",
   "id": "74861ad9",
   "metadata": {},
   "source": [
    "Plot our data.\n"
   ]
  },
  {
   "cell_type": "code",
   "execution_count": null,
   "id": "0e7f5783",
   "metadata": {},
   "outputs": [],
   "source": [
    "sns.lineplot(\n",
    "    data=d,\n",
    "    x='x',\n",
    "    y='y',\n",
    ")\n",
    "plt.title('example plot')\n",
    "plt.show()\n"
   ]
  },
  {
   "cell_type": "code",
   "execution_count": null,
   "id": "470ee46b",
   "metadata": {},
   "outputs": [],
   "source": [
    "display(Markdown(f\"\"\"\n",
    "Our example dataframe has {d.shape[0]} rows.\n",
    "\"\"\"))\n"
   ]
  },
  {
   "cell_type": "markdown",
   "id": "2e3a7c48",
   "metadata": {},
   "source": [
    "And that is our example.\n"
   ]
  }
 ],
 "metadata": {},
 "nbformat": 4,
 "nbformat_minor": 5
}
