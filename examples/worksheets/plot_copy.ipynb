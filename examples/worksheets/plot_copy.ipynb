{
 "cells": [
  {
   "cell_type": "markdown",
   "id": "04d14b21",
   "metadata": {},
   "source": [
    "Example of a Python Jupyter worksheet.\n"
   ]
  },
  {
   "cell_type": "code",
   "execution_count": null,
   "id": "62c22dde",
   "metadata": {},
   "outputs": [],
   "source": [
    "# import our packages\n",
    "import matplotlib.pyplot as plt\n",
    "import numpy as np\n",
    "import pandas as pd\n",
    "import seaborn as sns\n"
   ]
  },
  {
   "cell_type": "markdown",
   "id": "11a3b98c",
   "metadata": {},
   "source": [
    "Makes some example data.\n"
   ]
  },
  {
   "cell_type": "code",
   "execution_count": null,
   "id": "14c08266",
   "metadata": {},
   "outputs": [],
   "source": [
    "d = pd.DataFrame({\n",
    "    'x': np.linspace(0, 7, num=100)\n",
    "})\n",
    "d['y'] = np.sin(d['x'])\n"
   ]
  },
  {
   "cell_type": "code",
   "execution_count": null,
   "id": "ff3601a8",
   "metadata": {},
   "outputs": [],
   "source": [
    "# display data\n",
    "\n",
    "d\n"
   ]
  },
  {
   "cell_type": "markdown",
   "id": "edd2a12b",
   "metadata": {},
   "source": [
    "Plot our data.\n"
   ]
  },
  {
   "cell_type": "code",
   "execution_count": null,
   "id": "2cbf0573",
   "metadata": {},
   "outputs": [],
   "source": [
    "sns.lineplot(\n",
    "    data=d,\n",
    "    x='x',\n",
    "    y='y',\n",
    ")\n",
    "plt.title('example plot')\n",
    "plt.show()\n"
   ]
  },
  {
   "cell_type": "markdown",
   "id": "77d7abee",
   "metadata": {},
   "source": [
    "And that is our example.\n"
   ]
  }
 ],
 "metadata": {},
 "nbformat": 4,
 "nbformat_minor": 5
}
