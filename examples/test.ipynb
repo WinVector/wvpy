{
 "cells": [
  {
   "cell_type": "code",
   "execution_count": 1,
   "id": "e898d906",
   "metadata": {},
   "outputs": [
    {
     "data": {
      "text/plain": [
       "3"
      ]
     },
     "execution_count": 1,
     "metadata": {},
     "output_type": "execute_result"
    }
   ],
   "source": [
    "1 + 2\n"
   ]
  },
  {
   "cell_type": "code",
   "execution_count": 2,
   "id": "c5043041",
   "metadata": {},
   "outputs": [
    {
     "data": {
      "text/plain": [
       "-1"
      ]
     },
     "execution_count": 2,
     "metadata": {},
     "output_type": "execute_result"
    }
   ],
   "source": [
    "6 - 7\n"
   ]
  },
  {
   "cell_type": "markdown",
   "id": "c6839997",
   "metadata": {},
   "source": [
    "*hello* \n",
    "world\n"
   ]
  },
  {
   "cell_type": "markdown",
   "id": "00e8f1b3",
   "metadata": {},
   "source": [
    "txt2\n"
   ]
  },
  {
   "cell_type": "code",
   "execution_count": 3,
   "id": "04e82e4a",
   "metadata": {},
   "outputs": [
    {
     "data": {
      "text/plain": [
       "7"
      ]
     },
     "execution_count": 3,
     "metadata": {},
     "output_type": "execute_result"
    }
   ],
   "source": [
    "(3\n",
    " + 4)\n"
   ]
  }
 ],
 "metadata": {
  "interpreter": {
   "hash": "1564fe6c621c255e1bf894f3aae80247d56f4153453d59260e9f5ebda34f6083"
  },
  "kernelspec": {
   "display_name": "Python 3.9.12 ('research_env')",
   "language": "python",
   "name": "python3"
  },
  "language_info": {
   "codemirror_mode": {
    "name": "ipython",
    "version": 3
   },
   "file_extension": ".py",
   "mimetype": "text/x-python",
   "name": "python",
   "nbconvert_exporter": "python",
   "pygments_lexer": "ipython3",
   "version": "3.9.12"
  }
 },
 "nbformat": 4,
 "nbformat_minor": 5
}
