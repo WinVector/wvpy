{
 "cells": [
  {
   "cell_type": "code",
   "execution_count": null,
   "id": "6a380288",
   "metadata": {},
   "outputs": [],
   "source": [
    "1 + 2\n"
   ]
  },
  {
   "cell_type": "code",
   "execution_count": null,
   "id": "72b07e0a",
   "metadata": {},
   "outputs": [],
   "source": [
    "6 - 7\n"
   ]
  },
  {
   "cell_type": "markdown",
   "id": "e29a392d",
   "metadata": {},
   "source": [
    "*hello* \n",
    "world\n"
   ]
  },
  {
   "cell_type": "markdown",
   "id": "745c2bbc",
   "metadata": {},
   "source": [
    "txt2\n"
   ]
  },
  {
   "cell_type": "code",
   "execution_count": null,
   "id": "8babca57",
   "metadata": {},
   "outputs": [],
   "source": [
    "(3\n",
    " + 4)\n"
   ]
  }
 ],
 "metadata": {},
 "nbformat": 4,
 "nbformat_minor": 5
}
