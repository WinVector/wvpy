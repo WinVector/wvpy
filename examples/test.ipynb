{
 "cells": [
  {
   "cell_type": "code",
   "execution_count": null,
   "id": "afd9ae36",
   "metadata": {},
   "outputs": [],
   "source": [
    "\n",
    "1 + 2\n",
    "\n"
   ]
  },
  {
   "cell_type": "code",
   "execution_count": null,
   "id": "38813b6c",
   "metadata": {},
   "outputs": [],
   "source": [
    "\n",
    "6 - 7\n",
    "\n"
   ]
  },
  {
   "cell_type": "markdown",
   "id": "3cc9c9de",
   "metadata": {},
   "source": [
    "*hello* \n",
    "world\n"
   ]
  },
  {
   "cell_type": "code",
   "execution_count": null,
   "id": "9083af2e",
   "metadata": {},
   "outputs": [],
   "source": [
    "\n",
    "(3\n",
    " + 4)\n",
    "\n"
   ]
  }
 ],
 "metadata": {},
 "nbformat": 4,
 "nbformat_minor": 5
}
