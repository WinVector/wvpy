{
 "cells": [
  {
   "cell_type": "code",
   "execution_count": 1,
   "id": "7dd50e89",
   "metadata": {},
   "outputs": [
    {
     "data": {
      "text/plain": [
       "3"
      ]
     },
     "execution_count": 1,
     "metadata": {},
     "output_type": "execute_result"
    }
   ],
   "source": [
    "\n",
    "1 + 2\n",
    "\n"
   ]
  },
  {
   "cell_type": "code",
   "execution_count": 2,
   "id": "264cb88e",
   "metadata": {},
   "outputs": [
    {
     "data": {
      "text/plain": [
       "-1"
      ]
     },
     "execution_count": 2,
     "metadata": {},
     "output_type": "execute_result"
    }
   ],
   "source": [
    "\n",
    "6 - 7\n",
    "\n"
   ]
  },
  {
   "cell_type": "markdown",
   "id": "a5214d3e",
   "metadata": {},
   "source": [
    "*hello* \n",
    "world\n"
   ]
  },
  {
   "cell_type": "code",
   "execution_count": 3,
   "id": "ef02b55a",
   "metadata": {},
   "outputs": [
    {
     "data": {
      "text/plain": [
       "7"
      ]
     },
     "execution_count": 3,
     "metadata": {},
     "output_type": "execute_result"
    }
   ],
   "source": [
    "\n",
    "(3\n",
    " + 4)\n",
    "\n"
   ]
  }
 ],
 "metadata": {
  "interpreter": {
   "hash": "1564fe6c621c255e1bf894f3aae80247d56f4153453d59260e9f5ebda34f6083"
  },
  "kernelspec": {
   "display_name": "Python 3.9.12 ('research_env')",
   "language": "python",
   "name": "python3"
  },
  "language_info": {
   "codemirror_mode": {
    "name": "ipython",
    "version": 3
   },
   "file_extension": ".py",
   "mimetype": "text/x-python",
   "name": "python",
   "nbconvert_exporter": "python",
   "pygments_lexer": "ipython3",
   "version": "3.9.12"
  }
 },
 "nbformat": 4,
 "nbformat_minor": 5
}
