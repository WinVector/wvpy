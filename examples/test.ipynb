{
 "cells": [
  {
   "cell_type": "code",
   "execution_count": null,
   "id": "3f591d39",
   "metadata": {},
   "outputs": [],
   "source": [
    "\n",
    "1 + 2\n",
    "\n"
   ]
  },
  {
   "cell_type": "code",
   "execution_count": null,
   "id": "1a389528",
   "metadata": {},
   "outputs": [],
   "source": [
    "\n",
    "6 - 7\n",
    "\n"
   ]
  },
  {
   "cell_type": "markdown",
   "id": "6ee98b3e",
   "metadata": {},
   "source": [
    "*hello* \n",
    "world\n"
   ]
  },
  {
   "cell_type": "code",
   "execution_count": null,
   "id": "52440619",
   "metadata": {},
   "outputs": [],
   "source": [
    "\n",
    "(3\n",
    " + 4)\n",
    "\n"
   ]
  }
 ],
 "metadata": {},
 "nbformat": 4,
 "nbformat_minor": 5
}
