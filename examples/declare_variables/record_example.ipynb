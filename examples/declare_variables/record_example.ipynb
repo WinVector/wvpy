{
 "cells": [
  {
   "cell_type": "markdown",
   "metadata": {},
   "source": [
    "Example parameterized Jupyter notebook."
   ]
  },
  {
   "cell_type": "code",
   "execution_count": 1,
   "metadata": {},
   "outputs": [],
   "source": [
    "from wvpy.assignment import (\n",
    "    assign_values_from_map, \n",
    "    dict_to_assignments_str,\n",
    "    ensure_names_not_already_assigned,\n",
    "    record_assignments,\n",
    ")"
   ]
  },
  {
   "cell_type": "code",
   "execution_count": 2,
   "metadata": {},
   "outputs": [],
   "source": [
    "# overrides (usually this comes from external driver)\n",
    "# In practice sheet_vars will be set by the system runner, this form informs Jupyter or the IDE \n",
    "# that sheet_vars is a defined variable.\n",
    "sheet_vars = globals().get(\"sheet_vars\", {})  # take previous value if there is one, else empty dictionary"
   ]
  },
  {
   "cell_type": "code",
   "execution_count": 3,
   "metadata": {},
   "outputs": [],
   "source": [
    "# check that none of the variables we want to override are already assigned\n",
    "# this check is to cut down confusion of having these assigned somewhere other than\n",
    "# the context manager that is the next block\n",
    "ensure_names_not_already_assigned(globals(), keys=sheet_vars.keys())"
   ]
  },
  {
   "cell_type": "code",
   "execution_count": 4,
   "metadata": {},
   "outputs": [],
   "source": [
    "# set some variables to default values we are willing to override\n",
    "# we do this with the with context manager so that our Jupyter or IDE thinks these variables are defined in our environment\n",
    "# this defines both the set of names we allow overriding of and default values so we can debug in and IDE\n",
    "assignments = {}\n",
    "with record_assignments(globals(), result=assignments):\n",
    "    # default values to be overridden\n",
    "    city = \"Los Angeles\"\n",
    "    state = \"CA\"\n",
    "    country = \"USA\""
   ]
  },
  {
   "cell_type": "code",
   "execution_count": 5,
   "metadata": {},
   "outputs": [
    {
     "name": "stdout",
     "output_type": "stream",
     "text": [
      "default assignments are:\n",
      "{'city': 'Los Angeles', 'country': 'USA', 'state': 'CA'}\n"
     ]
    }
   ],
   "source": [
    "print(\"default assignments are:\")\n",
    "print(assignments)"
   ]
  },
  {
   "cell_type": "code",
   "execution_count": 6,
   "metadata": {},
   "outputs": [],
   "source": [
    "# override explicit assignments with values from sheet_vars\n",
    "assign_values_from_map(\n",
    "    globals(),\n",
    "    values=sheet_vars,\n",
    "    expected_keys=assignments.keys(),\n",
    ")"
   ]
  },
  {
   "cell_type": "code",
   "execution_count": 7,
   "metadata": {},
   "outputs": [
    {
     "name": "stdout",
     "output_type": "stream",
     "text": [
      "running with the following actual values\n",
      "\n",
      "city = 'Los Angeles'\n",
      "country = 'USA'\n",
      "state = 'CA'\n",
      "\n"
     ]
    }
   ],
   "source": [
    "print(\"running with the following actual values\")\n",
    "print(dict_to_assignments_str({k: globals()[k] for k in assignments.keys()}))"
   ]
  },
  {
   "cell_type": "code",
   "execution_count": 8,
   "metadata": {},
   "outputs": [
    {
     "name": "stdout",
     "output_type": "stream",
     "text": [
      "Analysis and results for Los Angeles.\n"
     ]
    }
   ],
   "source": [
    "#  small simulation of parameterized analysis process\n",
    "print(f\"Analysis and results for {city}.\")"
   ]
  }
 ],
 "metadata": {
  "kernelspec": {
   "display_name": "wvpy_dev_env",
   "language": "python",
   "name": "python3"
  },
  "language_info": {
   "codemirror_mode": {
    "name": "ipython",
    "version": 3
   },
   "file_extension": ".py",
   "mimetype": "text/x-python",
   "name": "python",
   "nbconvert_exporter": "python",
   "pygments_lexer": "ipython3",
   "version": "3.11.2"
  }
 },
 "nbformat": 4,
 "nbformat_minor": 2
}
