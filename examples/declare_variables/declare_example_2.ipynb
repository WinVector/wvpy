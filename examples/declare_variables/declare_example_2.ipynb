{
 "cells": [
  {
   "cell_type": "markdown",
   "metadata": {},
   "source": [
    "Example parameterized Jupyter notebook."
   ]
  },
  {
   "cell_type": "code",
   "execution_count": null,
   "metadata": {},
   "outputs": [],
   "source": [
    "from wvpy.jtools import declare_task_variables"
   ]
  },
  {
   "cell_type": "code",
   "execution_count": null,
   "metadata": {},
   "outputs": [],
   "source": [
    "# overrides (usually comes from external driver)\n",
    "sheet_vars = {\n",
    "    'city': 'San Francisco'\n",
    "}"
   ]
  },
  {
   "cell_type": "code",
   "execution_count": null,
   "metadata": {},
   "outputs": [],
   "source": [
    "# declare which variables are eligible for external override\n",
    "with declare_task_variables(globals()):\n",
    "    # default values to be overridden\n",
    "    city = \"Los Angeles\"\n",
    "    county = \"unknown\"  # sheet_vars does not have to override all defaults"
   ]
  },
  {
   "cell_type": "code",
   "execution_count": null,
   "metadata": {},
   "outputs": [],
   "source": [
    "#  small simulation of parameterized analysis process\n",
    "print(f\"Analysis and results for {city}, county: {county}.\")"
   ]
  }
 ],
 "metadata": {
  "kernelspec": {
   "display_name": "wvpy_dev_env",
   "language": "python",
   "name": "python3"
  },
  "language_info": {
   "codemirror_mode": {
    "name": "ipython",
    "version": 3
   },
   "file_extension": ".py",
   "mimetype": "text/x-python",
   "name": "python",
   "nbconvert_exporter": "python",
   "pygments_lexer": "ipython3",
   "version": "3.11.2"
  }
 },
 "nbformat": 4,
 "nbformat_minor": 2
}
