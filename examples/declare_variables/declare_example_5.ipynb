{
 "cells": [
  {
   "cell_type": "markdown",
   "metadata": {},
   "source": [
    "Example parameterized Jupyter notebook."
   ]
  },
  {
   "cell_type": "code",
   "execution_count": 1,
   "metadata": {},
   "outputs": [],
   "source": [
    "from wvpy.jtools import declare_task_variables, write_dict_as_assignments"
   ]
  },
  {
   "cell_type": "code",
   "execution_count": 2,
   "metadata": {},
   "outputs": [],
   "source": [
    "# overrides (usually comes from external driver)\n",
    "sheet_vars = {\n",
    "    'city': 'San Francisco',\n",
    "}"
   ]
  },
  {
   "cell_type": "code",
   "execution_count": 3,
   "metadata": {},
   "outputs": [],
   "source": [
    "# values we want the defaults to be consistent with\n",
    "known_defaults = {\n",
    "    \"city\": \"Los Angeles\",\n",
    "    \"state\": \"CA\",\n",
    "    \"planet\": \"Earth\",\n",
    "}"
   ]
  },
  {
   "cell_type": "code",
   "execution_count": 4,
   "metadata": {},
   "outputs": [
    {
     "name": "stdout",
     "output_type": "stream",
     "text": [
      "\n",
      "city = 'Los Angeles'\n",
      "planet = 'Earth'\n",
      "state = 'CA'\n",
      "\n"
     ]
    }
   ],
   "source": [
    "print(write_dict_as_assignments(known_defaults))"
   ]
  },
  {
   "cell_type": "code",
   "execution_count": 5,
   "metadata": {},
   "outputs": [],
   "source": [
    "# declare which variables are eligible for external override\n",
    "result_map = dict()\n",
    "with declare_task_variables(globals(), result_map=result_map):\n",
    "    # default values to be overridden\n",
    "    city = \"Los Angeles\"\n",
    "    state = \"CA\"\n",
    "    country = \"USA\""
   ]
  },
  {
   "cell_type": "code",
   "execution_count": 6,
   "metadata": {},
   "outputs": [
    {
     "data": {
      "text/plain": [
       "{'sheet_vars': {'city': 'San Francisco'},\n",
       " 'declared_vars': {'state': 'CA', 'country': 'USA', 'city': 'Los Angeles'}}"
      ]
     },
     "execution_count": 6,
     "metadata": {},
     "output_type": "execute_result"
    }
   ],
   "source": [
    "result_map\n",
    "# can check declared vars is consistent with known_defaults"
   ]
  },
  {
   "cell_type": "code",
   "execution_count": 7,
   "metadata": {},
   "outputs": [
    {
     "name": "stdout",
     "output_type": "stream",
     "text": [
      "Analysis and results for San Francisco.\n"
     ]
    }
   ],
   "source": [
    "#  small simulation of parameterized analysis process\n",
    "print(f\"Analysis and results for {city}.\")"
   ]
  }
 ],
 "metadata": {
  "kernelspec": {
   "display_name": "wvpy_dev_env",
   "language": "python",
   "name": "python3"
  },
  "language_info": {
   "codemirror_mode": {
    "name": "ipython",
    "version": 3
   },
   "file_extension": ".py",
   "mimetype": "text/x-python",
   "name": "python",
   "nbconvert_exporter": "python",
   "pygments_lexer": "ipython3",
   "version": "3.11.2"
  }
 },
 "nbformat": 4,
 "nbformat_minor": 2
}
