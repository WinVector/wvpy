{
 "cells": [
  {
   "cell_type": "code",
   "execution_count": null,
   "metadata": {
    "collapsed": true
   },
   "outputs": [],
   "source": []
  },
  {
   "cell_type": "code",
   "execution_count": 1,
   "outputs": [
    {
     "data": {
      "text/plain": "'0.2.8'"
     },
     "execution_count": 1,
     "metadata": {},
     "output_type": "execute_result"
    }
   ],
   "source": [
    "import pandas\n",
    "import wvu.util\n",
    "\n",
    "wvu.__version__"
   ],
   "metadata": {
    "collapsed": false,
    "pycharm": {
     "name": "#%%\n"
    }
   }
  },
  {
   "cell_type": "code",
   "execution_count": 2,
   "outputs": [
    {
     "data": {
      "text/plain": "   x      y\n0  1  False\n1  2  False\n2  3   True\n3  4   True\n4  5  False",
      "text/html": "<div>\n<style scoped>\n    .dataframe tbody tr th:only-of-type {\n        vertical-align: middle;\n    }\n\n    .dataframe tbody tr th {\n        vertical-align: top;\n    }\n\n    .dataframe thead th {\n        text-align: right;\n    }\n</style>\n<table border=\"1\" class=\"dataframe\">\n  <thead>\n    <tr style=\"text-align: right;\">\n      <th></th>\n      <th>x</th>\n      <th>y</th>\n    </tr>\n  </thead>\n  <tbody>\n    <tr>\n      <th>0</th>\n      <td>1</td>\n      <td>False</td>\n    </tr>\n    <tr>\n      <th>1</th>\n      <td>2</td>\n      <td>False</td>\n    </tr>\n    <tr>\n      <th>2</th>\n      <td>3</td>\n      <td>True</td>\n    </tr>\n    <tr>\n      <th>3</th>\n      <td>4</td>\n      <td>True</td>\n    </tr>\n    <tr>\n      <th>4</th>\n      <td>5</td>\n      <td>False</td>\n    </tr>\n  </tbody>\n</table>\n</div>"
     },
     "execution_count": 2,
     "metadata": {},
     "output_type": "execute_result"
    }
   ],
   "source": [
    "d = pandas.DataFrame({\n",
    "    'x': [1, 2, 3, 4, 5],\n",
    "    'y': [False, False, True, True, False]\n",
    "})\n",
    "\n",
    "d"
   ],
   "metadata": {
    "collapsed": false,
    "pycharm": {
     "name": "#%%\n"
    }
   }
  },
  {
   "cell_type": "code",
   "execution_count": 3,
   "outputs": [
    {
     "data": {
      "text/plain": "   threshold  count  fraction  precision  true_positive_rate  \\\n0   0.999999      5       1.0   0.400000                 1.0   \n1   1.000000      5       1.0   0.400000                 1.0   \n2   2.000000      4       0.8   0.500000                 1.0   \n3   3.000000      3       0.6   0.666667                 1.0   \n4   4.000000      2       0.4   0.500000                 0.5   \n5   5.000000      1       0.2   0.000000                 0.0   \n6   5.000001      0       0.0   0.000000                 0.0   \n\n   false_positive_rate  true_negative_rate  false_negative_rate  accuracy  \\\n0             1.000000            0.000000                  0.0       0.4   \n1             1.000000            0.000000                  0.0       0.4   \n2             0.666667            0.333333                  0.0       0.6   \n3             0.333333            0.666667                  0.0       0.8   \n4             0.333333            0.666667                  0.5       0.6   \n5             0.333333            0.666667                  1.0       0.4   \n6             0.000000            1.000000                  1.0       0.6   \n\n   cdf  recall  sensitivity  specificity  \n0  0.0     1.0          1.0     0.000000  \n1  0.0     1.0          1.0     0.000000  \n2  0.2     1.0          1.0     0.333333  \n3  0.4     1.0          1.0     0.666667  \n4  0.6     0.5          0.5     0.666667  \n5  0.8     0.0          0.0     0.666667  \n6  1.0     0.0          0.0     1.000000  ",
      "text/html": "<div>\n<style scoped>\n    .dataframe tbody tr th:only-of-type {\n        vertical-align: middle;\n    }\n\n    .dataframe tbody tr th {\n        vertical-align: top;\n    }\n\n    .dataframe thead th {\n        text-align: right;\n    }\n</style>\n<table border=\"1\" class=\"dataframe\">\n  <thead>\n    <tr style=\"text-align: right;\">\n      <th></th>\n      <th>threshold</th>\n      <th>count</th>\n      <th>fraction</th>\n      <th>precision</th>\n      <th>true_positive_rate</th>\n      <th>false_positive_rate</th>\n      <th>true_negative_rate</th>\n      <th>false_negative_rate</th>\n      <th>accuracy</th>\n      <th>cdf</th>\n      <th>recall</th>\n      <th>sensitivity</th>\n      <th>specificity</th>\n    </tr>\n  </thead>\n  <tbody>\n    <tr>\n      <th>0</th>\n      <td>0.999999</td>\n      <td>5</td>\n      <td>1.0</td>\n      <td>0.400000</td>\n      <td>1.0</td>\n      <td>1.000000</td>\n      <td>0.000000</td>\n      <td>0.0</td>\n      <td>0.4</td>\n      <td>0.0</td>\n      <td>1.0</td>\n      <td>1.0</td>\n      <td>0.000000</td>\n    </tr>\n    <tr>\n      <th>1</th>\n      <td>1.000000</td>\n      <td>5</td>\n      <td>1.0</td>\n      <td>0.400000</td>\n      <td>1.0</td>\n      <td>1.000000</td>\n      <td>0.000000</td>\n      <td>0.0</td>\n      <td>0.4</td>\n      <td>0.0</td>\n      <td>1.0</td>\n      <td>1.0</td>\n      <td>0.000000</td>\n    </tr>\n    <tr>\n      <th>2</th>\n      <td>2.000000</td>\n      <td>4</td>\n      <td>0.8</td>\n      <td>0.500000</td>\n      <td>1.0</td>\n      <td>0.666667</td>\n      <td>0.333333</td>\n      <td>0.0</td>\n      <td>0.6</td>\n      <td>0.2</td>\n      <td>1.0</td>\n      <td>1.0</td>\n      <td>0.333333</td>\n    </tr>\n    <tr>\n      <th>3</th>\n      <td>3.000000</td>\n      <td>3</td>\n      <td>0.6</td>\n      <td>0.666667</td>\n      <td>1.0</td>\n      <td>0.333333</td>\n      <td>0.666667</td>\n      <td>0.0</td>\n      <td>0.8</td>\n      <td>0.4</td>\n      <td>1.0</td>\n      <td>1.0</td>\n      <td>0.666667</td>\n    </tr>\n    <tr>\n      <th>4</th>\n      <td>4.000000</td>\n      <td>2</td>\n      <td>0.4</td>\n      <td>0.500000</td>\n      <td>0.5</td>\n      <td>0.333333</td>\n      <td>0.666667</td>\n      <td>0.5</td>\n      <td>0.6</td>\n      <td>0.6</td>\n      <td>0.5</td>\n      <td>0.5</td>\n      <td>0.666667</td>\n    </tr>\n    <tr>\n      <th>5</th>\n      <td>5.000000</td>\n      <td>1</td>\n      <td>0.2</td>\n      <td>0.000000</td>\n      <td>0.0</td>\n      <td>0.333333</td>\n      <td>0.666667</td>\n      <td>1.0</td>\n      <td>0.4</td>\n      <td>0.8</td>\n      <td>0.0</td>\n      <td>0.0</td>\n      <td>0.666667</td>\n    </tr>\n    <tr>\n      <th>6</th>\n      <td>5.000001</td>\n      <td>0</td>\n      <td>0.0</td>\n      <td>0.000000</td>\n      <td>0.0</td>\n      <td>0.000000</td>\n      <td>1.000000</td>\n      <td>1.0</td>\n      <td>0.6</td>\n      <td>1.0</td>\n      <td>0.0</td>\n      <td>0.0</td>\n      <td>1.000000</td>\n    </tr>\n  </tbody>\n</table>\n</div>"
     },
     "execution_count": 3,
     "metadata": {},
     "output_type": "execute_result"
    }
   ],
   "source": [
    "stats = wvu.util.threshold_statistics(\n",
    "    d,\n",
    "    model_predictions='x',\n",
    "    yvalues='y',\n",
    "    )\n",
    "\n",
    "stats"
   ],
   "metadata": {
    "collapsed": false,
    "pycharm": {
     "name": "#%%\n"
    }
   }
  },
  {
   "cell_type": "code",
   "execution_count": 4,
   "outputs": [
    {
     "name": "stdout",
     "output_type": "stream",
     "text": [
      "pd.DataFrame({\n",
      "    'threshold': [0.999999, 1.0, 2.0, 3.0, 4.0, 5.0, 5.000001],\n",
      "    'count': [5, 5, 4, 3, 2, 1, 0],\n",
      "    'fraction': [1.0, 1.0, 0.8, 0.6, 0.4, 0.2, 0.0],\n",
      "    'precision': [0.4, 0.4, 0.5, 0.6666666666666666, 0.5, 0.0, 0.0],\n",
      "    'true_positive_rate': [1.0, 1.0, 1.0, 1.0, 0.5, 0.0, 0.0],\n",
      "    'false_positive_rate': [1.0, 1.0, 0.6666666666666666, 0.3333333333333333, 0.3333333333333333, 0.3333333333333333, 0.0],\n",
      "    'true_negative_rate': [0.0, 0.0, 0.3333333333333333, 0.6666666666666666, 0.6666666666666666, 0.6666666666666666, 1.0],\n",
      "    'false_negative_rate': [0.0, 0.0, 0.0, 0.0, 0.5, 1.0, 1.0],\n",
      "    'accuracy': [0.4, 0.4, 0.6, 0.8, 0.6, 0.4, 0.6],\n",
      "    'cdf': [0.0, 0.0, 0.19999999999999996, 0.4, 0.6, 0.8, 1.0],\n",
      "    'recall': [1.0, 1.0, 1.0, 1.0, 0.5, 0.0, 0.0],\n",
      "    'sensitivity': [1.0, 1.0, 1.0, 1.0, 0.5, 0.0, 0.0],\n",
      "    'specificity': [0.0, 0.0, 0.33333333333333337, 0.6666666666666667, 0.6666666666666667, 0.6666666666666667, 1.0],\n",
      "    })\n"
     ]
    }
   ],
   "source": [
    "import data_algebra.util\n",
    "\n",
    "print(data_algebra.util.pandas_to_example_str(stats))"
   ],
   "metadata": {
    "collapsed": false,
    "pycharm": {
     "name": "#%%\n"
    }
   }
  }
 ],
 "metadata": {
  "kernelspec": {
   "display_name": "Python 3",
   "language": "python",
   "name": "python3"
  },
  "language_info": {
   "codemirror_mode": {
    "name": "ipython",
    "version": 2
   },
   "file_extension": ".py",
   "mimetype": "text/x-python",
   "name": "python",
   "nbconvert_exporter": "python",
   "pygments_lexer": "ipython2",
   "version": "2.7.6"
  }
 },
 "nbformat": 4,
 "nbformat_minor": 0
}