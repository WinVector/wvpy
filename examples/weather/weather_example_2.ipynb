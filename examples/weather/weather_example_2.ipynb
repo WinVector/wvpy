{
 "cells": [
  {
   "cell_type": "code",
   "execution_count": null,
   "metadata": {},
   "outputs": [],
   "source": [
    "# Basic weather API example using [weather.gov](https://www.weather.gov/documentation/services-web-api)."
   ]
  },
  {
   "cell_type": "code",
   "execution_count": null,
   "metadata": {},
   "outputs": [],
   "source": [
    "from wvpy.jtools import declare_task_variables"
   ]
  },
  {
   "cell_type": "code",
   "execution_count": null,
   "metadata": {},
   "outputs": [],
   "source": []
  },
  {
   "cell_type": "code",
   "execution_count": null,
   "metadata": {},
   "outputs": [],
   "source": [
    "# set some variables to default values we are willing to override\n",
    "# we do this with the with context manager so that our Jupyter or IDE thinks these variables are defined in our environment\n",
    "# this defines both the set of names we allow overriding of and default values so we can debug in and IDE\n",
    "with declare_task_variables(globals()):\n",
    "    # set what state we are querying for\n",
    "    state_code = 'CA'"
   ]
  },
  {
   "cell_type": "code",
   "execution_count": null,
   "metadata": {},
   "outputs": [],
   "source": []
  },
  {
   "cell_type": "code",
   "execution_count": null,
   "metadata": {},
   "outputs": [],
   "source": [
    "# import our packages\n",
    "import datetime\n",
    "import requests\n",
    "import pandas as pd\n",
    "from IPython.display import display, Markdown\n",
    "import seaborn as sns\n",
    "import matplotlib.pyplot as plt"
   ]
  },
  {
   "cell_type": "code",
   "execution_count": null,
   "metadata": {},
   "outputs": [],
   "source": [
    "# configure\n",
    "html_render = True\n",
    "\n",
    "def present(txt: str):\n",
    "    display(Markdown(txt))"
   ]
  },
  {
   "cell_type": "code",
   "execution_count": null,
   "metadata": {},
   "outputs": [],
   "source": [
    "# do the query\n",
    "response = requests.get(f\"https://api.weather.gov/alerts/active?area={state_code}\")\n",
    "# get JSON response\n",
    "json_data = response.json()\n",
    "# convert to data frame\n",
    "df = pd.json_normalize(json_data[\"features\"])"
   ]
  },
  {
   "cell_type": "code",
   "execution_count": null,
   "metadata": {},
   "outputs": [],
   "source": [
    "# get local query time\n",
    "now = datetime.datetime.now()\n",
    "tz = now.astimezone().tzinfo\n",
    "time_stamp_str = now.strftime('%Y-%m-%d %H:%M:%S ') + str(tz)"
   ]
  },
  {
   "cell_type": "code",
   "execution_count": null,
   "metadata": {},
   "outputs": [],
   "source": [
    "# format some result info\n",
    "present(f\"\"\"\n",
    "[weather.gov](https://www.weather.gov/documentation/services-web-api) alerts for {state_code} retrieved at {time_stamp_str}.\n",
    "\"\"\")"
   ]
  },
  {
   "cell_type": "code",
   "execution_count": null,
   "metadata": {},
   "outputs": [],
   "source": [
    "# show an excerpt of the returned data frame\n",
    "display_cols = [\n",
    "    \"properties.parameters.NWSheadline\",\n",
    "    'properties.areaDesc',\n",
    "    'properties.effective',\n",
    "    'properties.severity',\n",
    "    'properties.certainty',\n",
    "    'properties.event',\n",
    "]\n",
    "if df.shape[0] > 0:\n",
    "    display_df = df.loc[\n",
    "        pd.isnull(df[\"properties.parameters.NWSheadline\"]) == False,\n",
    "        display_cols].reset_index(drop=True, inplace=False)\n",
    "else:\n",
    "    display_df = pd.DataFrame({col: [None] for col in display_cols})\n",
    "\n",
    "present(display_df.loc[:, [\"properties.parameters.NWSheadline\"]].to_markdown())"
   ]
  },
  {
   "cell_type": "code",
   "execution_count": null,
   "metadata": {},
   "outputs": [],
   "source": [
    "# plot\n",
    "if html_render and (sum(pd.isnull(display_df[\"properties.severity\"]) == False) > 0):\n",
    "    ax = sns.histplot(data=display_df, x=\"properties.severity\")\n",
    "    plt.title(f\"Weather severity distribution for {state_code}, retrieved at {time_stamp_str}\")\n",
    "    ax.set(xlabel='Severity')\n",
    "    plt.show()"
   ]
  },
  {
   "cell_type": "code",
   "execution_count": null,
   "metadata": {},
   "outputs": [],
   "source": [
    "# mark provenance\n",
    "display_df['QUERY_STATE_CODE'] = state_code\n",
    "display_df['QUERY_TIME_STAMP'] = time_stamp_str"
   ]
  },
  {
   "cell_type": "code",
   "execution_count": null,
   "metadata": {},
   "outputs": [],
   "source": [
    "# save to CSV file (could also write to database)\n",
    "display_df.to_csv(\n",
    "    f\"{state_code}_weather.csv\",\n",
    "    index=False,\n",
    ")"
   ]
  }
 ],
 "metadata": {
  "kernelspec": {
   "display_name": "wvpy_dev_env",
   "language": "python",
   "name": "python3"
  },
  "language_info": {
   "codemirror_mode": {
    "name": "ipython",
    "version": 3
   },
   "file_extension": ".py",
   "mimetype": "text/x-python",
   "name": "python",
   "nbconvert_exporter": "python",
   "pygments_lexer": "ipython3",
   "version": "3.11.2"
  }
 },
 "nbformat": 4,
 "nbformat_minor": 2
}
