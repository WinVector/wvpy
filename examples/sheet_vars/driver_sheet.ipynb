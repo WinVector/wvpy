{
 "cells": [
  {
   "attachments": {},
   "cell_type": "markdown",
   "metadata": {},
   "source": [
    "Example driver sheet."
   ]
  },
  {
   "cell_type": "code",
   "execution_count": 1,
   "metadata": {},
   "outputs": [],
   "source": [
    "from pprint import pprint\n",
    "from wvpy.jtools import JTask, run_pool\n",
    "import imgkit\n",
    "import os"
   ]
  },
  {
   "cell_type": "code",
   "execution_count": null,
   "metadata": {},
   "outputs": [],
   "source": []
  },
  {
   "cell_type": "code",
   "execution_count": 2,
   "metadata": {},
   "outputs": [],
   "source": [
    "tasks = [\n",
    "    JTask(\n",
    "        \"task_sheet.ipynb\",\n",
    "        output_suffix=\"_g1\",\n",
    "        sheet_vars = {\n",
    "            \"file_names\": [\n",
    "            \"fname_1.txt\",\n",
    "            \"fname_2.txt\",\n",
    "        ]},\n",
    "    ),\n",
    "    JTask(\n",
    "        \"task_sheet.ipynb\",\n",
    "        output_suffix=\"_g2\",\n",
    "        sheet_vars = {\n",
    "            \"file_names\": [\n",
    "            \"fname_3.txt\",\n",
    "            \"fname_4.txt\",\n",
    "        ]},\n",
    "    ),\n",
    "]\n"
   ]
  },
  {
   "cell_type": "code",
   "execution_count": 3,
   "metadata": {},
   "outputs": [
    {
     "name": "stdout",
     "output_type": "stream",
     "text": [
      "[JTask(\n",
      " sheet_name='task_sheet.ipynb',\n",
      " output_suffix='_g1',\n",
      " exclude_input=True,\n",
      " init_code=None,\n",
      " path_prefix=None,\n",
      " sheet_vars={'file_names': ['fname_1.txt', 'fname_2.txt']},\n",
      "),\n",
      " JTask(\n",
      " sheet_name='task_sheet.ipynb',\n",
      " output_suffix='_g2',\n",
      " exclude_input=True,\n",
      " init_code=None,\n",
      " path_prefix=None,\n",
      " sheet_vars={'file_names': ['fname_3.txt', 'fname_4.txt']},\n",
      ")]\n"
     ]
    }
   ],
   "source": [
    "pprint(tasks)"
   ]
  },
  {
   "cell_type": "code",
   "execution_count": 4,
   "metadata": {},
   "outputs": [
    {
     "name": "stdout",
     "output_type": "stream",
     "text": [
      "start render_as_html \"task_sheet.ipynb\" \"_g1\" 2023-07-02 11:52:33.286698\n",
      "start render_as_html \"task_sheet.ipynb\" \"_g2\" 2023-07-02 11:52:33.286955\n"
     ]
    },
    {
     "name": "stderr",
     "output_type": "stream",
     "text": [
      "This version of python seems to be incorrectly compiled\n",
      "(internal generated filenames are not absolute).\n",
      "This may make the debugger miss breakpoints.\n",
      "Related bug: http://bugs.python.org/issue1666807\n",
      "This version of python seems to be incorrectly compiled\n",
      "(internal generated filenames are not absolute).\n",
      "This may make the debugger miss breakpoints.\n",
      "Related bug: http://bugs.python.org/issue1666807\n",
      "This version of python seems to be incorrectly compiled\n",
      "(internal generated filenames are not absolute).\n",
      "This may make the debugger miss breakpoints.\n",
      "Related bug: http://bugs.python.org/issue1666807\n",
      "This version of python seems to be incorrectly compiled\n",
      "(internal generated filenames are not absolute).\n",
      "This may make the debugger miss breakpoints.\n",
      "Related bug: http://bugs.python.org/issue1666807\n"
     ]
    },
    {
     "name": "stdout",
     "output_type": "stream",
     "text": [
      "\tdone render_as_html \"task_sheet_g2.html\" 2023-07-02 11:52:35.467671\n",
      "\tdone render_as_html \"task_sheet_g1.html\" 2023-07-02 11:52:35.467699\n"
     ]
    },
    {
     "data": {
      "text/plain": [
       "[None, None]"
      ]
     },
     "execution_count": 4,
     "metadata": {},
     "output_type": "execute_result"
    }
   ],
   "source": [
    "# ignore \n",
    "# \"This version of python seems to be incorrectly compiled\"\n",
    "# Just MacOS problems\n",
    "run_pool(\n",
    "    tasks,\n",
    "    njobs=2,\n",
    "    verbose=False,\n",
    "    stop_on_error=False,\n",
    ")"
   ]
  },
  {
   "cell_type": "code",
   "execution_count": 5,
   "metadata": {},
   "outputs": [
    {
     "name": "stdout",
     "output_type": "stream",
     "text": [
      "Loading page (1/2)\n",
      "Rendering (2/2)                                                    \n",
      "Done                                                               \n",
      "Loading page (1/2)\n",
      "Rendering (2/2)                                                    \n",
      "Done                                                               \n"
     ]
    }
   ],
   "source": [
    "for fname in os.listdir():\n",
    "    if fname.startswith('task_sheet_') and fname.endswith('.html'):\n",
    "        imgkit.from_file(fname, fname.removesuffix('.html') + \".png\")"
   ]
  },
  {
   "cell_type": "code",
   "execution_count": null,
   "metadata": {},
   "outputs": [],
   "source": []
  }
 ],
 "metadata": {
  "kernelspec": {
   "display_name": "wvpy_dev_env",
   "language": "python",
   "name": "python3"
  },
  "language_info": {
   "codemirror_mode": {
    "name": "ipython",
    "version": 3
   },
   "file_extension": ".py",
   "mimetype": "text/x-python",
   "name": "python",
   "nbconvert_exporter": "python",
   "pygments_lexer": "ipython3",
   "version": "3.11.3"
  },
  "orig_nbformat": 4
 },
 "nbformat": 4,
 "nbformat_minor": 2
}
